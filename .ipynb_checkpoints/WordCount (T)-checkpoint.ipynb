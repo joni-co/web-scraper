{
 "cells": [
  {
   "cell_type": "markdown",
   "id": "cheap-console",
   "metadata": {},
   "source": [
    "## Word Count"
   ]
  },
  {
   "cell_type": "code",
   "execution_count": 3,
   "id": "raising-surgery",
   "metadata": {},
   "outputs": [
    {
     "name": "stderr",
     "output_type": "stream",
     "text": [
      "C:\\Users\\jonas\\Anaconda3\\envs\\ML\\lib\\site-packages\\numpy\\_distributor_init.py:30: UserWarning: loaded more than 1 DLL from .libs:\n",
      "C:\\Users\\jonas\\Anaconda3\\envs\\ML\\lib\\site-packages\\numpy\\.libs\\libopenblas.PYQHXLVVQ7VESDPUVUADXEVJOBGHJPAY.gfortran-win_amd64.dll\n",
      "C:\\Users\\jonas\\Anaconda3\\envs\\ML\\lib\\site-packages\\numpy\\.libs\\libopenblas.WCDJNK7YVMPZQ2ME2ZZHJJRJ3JIKNDB7.gfortran-win_amd64.dll\n",
      "  warnings.warn(\"loaded more than 1 DLL from .libs:\"\n"
     ]
    }
   ],
   "source": [
    "import os\n",
    "from bs4 import BeautifulSoup\n",
    "import requests\n",
    "import pandas as pd\n",
    "import numpy as np"
   ]
  },
  {
   "cell_type": "code",
   "execution_count": 4,
   "id": "humanitarian-upgrade",
   "metadata": {},
   "outputs": [],
   "source": [
    "sz_file = os.path.join(\n",
    "    \"local\",\n",
    "    \"sz.html\"\n",
    ")"
   ]
  },
  {
   "cell_type": "markdown",
   "id": "amazing-lincoln",
   "metadata": {},
   "source": [
    "## Read file without encoding definition"
   ]
  },
  {
   "cell_type": "code",
   "execution_count": 5,
   "id": "defined-complexity",
   "metadata": {},
   "outputs": [],
   "source": [
    "with open(sz_file, \"r\") as f:\n",
    "    text = f.read()"
   ]
  },
  {
   "cell_type": "code",
   "execution_count": 6,
   "id": "shared-speed",
   "metadata": {},
   "outputs": [
    {
     "name": "stdout",
     "output_type": "stream",
     "text": [
      "<!doctype html>\n",
      "<html lang=\"de\">\n",
      "\n",
      "<head>\n",
      "    <meta charset=\"utf-8\" />\n",
      "    <title>Aktuelle Nachrichten, HintergrÃ¼nde und Kommentare - SZ.de</title>\n",
      "    <link rel=\"canonical\" href=\"https://www.sueddeutsche.de\" />\n",
      "    <meta name=\"robots\" content=\"index,follow,noarchive,noodp\" />\n",
      "    <meta name=\"author\" content=\"SÃ¼ddeutsche.de GmbH, Munich, Germany\" />\n",
      "    <meta name=\"copyright\" content=\"SÃ¼ddeutsche.de GmbH, Munich, Germany\" />\n",
      "    <meta name=\"viewport\" content=\"width=1280\" />\n",
      "    <meta name=\"email\" content=\"kontakt@sueddeutsche.de\" />\n",
      "    <meta name=\"description\" content=\"News aus Deutschland und aller Welt mit Kommentaren und Hintergrundberichten auf SÃ¼ddeutsche.de.\" />\n",
      "    <meta name=\"key [...]\n"
     ]
    }
   ],
   "source": [
    "print(text[0:700], \"[...]\")"
   ]
  },
  {
   "cell_type": "markdown",
   "id": "turned-assessment",
   "metadata": {},
   "source": [
    "## Read file with encoding definition"
   ]
  },
  {
   "cell_type": "code",
   "execution_count": 7,
   "id": "earned-granny",
   "metadata": {},
   "outputs": [],
   "source": [
    "with open(sz_file, \"r\", encoding=\"utf-8\") as f:\n",
    "    text = f.read()"
   ]
  },
  {
   "cell_type": "code",
   "execution_count": 8,
   "id": "recognized-jungle",
   "metadata": {},
   "outputs": [
    {
     "name": "stdout",
     "output_type": "stream",
     "text": [
      "<!doctype html>\n",
      "<html lang=\"de\">\n",
      "\n",
      "<head>\n",
      "    <meta charset=\"utf-8\" />\n",
      "    <title>Aktuelle Nachrichten, Hintergründe und Kommentare - SZ.de</title>\n",
      "    <link rel=\"canonical\" href=\"https://www.sueddeutsche.de\" />\n",
      "    <meta name=\"robots\" content=\"index,follow,noarchive,noodp\" />\n",
      "    <meta name=\"author\" content=\"Süddeutsche.de GmbH, Munich, Germany\" />\n",
      "    <meta name=\"copyright\" content=\"Süddeutsche.de GmbH, Munich, Germany\" />\n",
      "    <meta name=\"viewport\" content=\"width=1280\" />\n",
      "    <meta name=\"email\" content=\"kontakt@sueddeutsche.de\" />\n",
      "    <meta name=\"description\" content=\"News aus Deutschland und aller Welt mit Kommentaren und Hintergrundberichten auf Süddeutsche.de.\" />\n",
      "    <meta name=\"keyword [...]\n"
     ]
    }
   ],
   "source": [
    "print(text[0:700], \"[...]\")"
   ]
  },
  {
   "cell_type": "code",
   "execution_count": 9,
   "id": "parliamentary-remainder",
   "metadata": {},
   "outputs": [],
   "source": [
    "soup = BeautifulSoup(text, \"html.parser\")"
   ]
  },
  {
   "cell_type": "code",
   "execution_count": 10,
   "id": "naked-essay",
   "metadata": {},
   "outputs": [],
   "source": [
    "text = soup.text"
   ]
  },
  {
   "cell_type": "code",
   "execution_count": 11,
   "id": "square-client",
   "metadata": {},
   "outputs": [
    {
     "data": {
      "text/plain": [
       "'\\n\\n\\n\\nAktuelle Nachrichten, Hintergründe und Kommentare - SZ.de\\n\\n\\n\\n\\n\\n\\n\\n\\n\\n\\n\\n\\n\\n\\n\\n\\n\\n\\n\\n\\n\\n\\n\\n\\n\\n\\n\\n\\n\\n\\n\\n\\n\\n\\n\\n\\n\\n\\n\\n\\n\\n\\n\\n\\n\\n\\n\\n\\n\\n\\n\\n\\n\\n\\n\\n\\n\\n\\n\\n\\n\\n\\n\\n\\n\\n\\n\\n\\n\\n\\n\\n\\n\\n\\n\\n\\n\\n\\n\\nMünchen\\n\\n\\n15°\\n\\n\\n\\n\\n\\n\\n\\n\\n\\n\\nNachmittag\\nAbend\\nNacht\\nVormittag\\n\\nMünchen\\nBerlin\\nHamburg\\nKöln\\nFrankfurt\\nStuttgart\\n\\n\\n\\n15°\\n11°\\n2°\\n13°\\n\\n\\n\\n\\n\\n\\n\\n\\nsonnig\\nsonnig\\nwolkenlos\\nheiter\\n\\n\\n\\n\\n5-Tage-Vorschau\\n\\n\\n\\n\\n\\n\\n\\n\\n\\n\\n\\n\\n\\n\\n\\n\\n\\n    Shop\\n    \\n\\n\\n\\n    Jobs\\n    \\n\\n\\n\\n    Immobilien\\n    \\n\\n\\n\\n    Anzeigen\\n    \\n\\n\\n\\n\\n\\n    Immobilienmarkt\\n    \\n\\n\\n\\n\\n\\n\\nImmobilien und Wohnungen kaufen, mieten, anbieten\\n\\n\\n\\n\\n\\n\\n    Stellenmarkt\\n    \\n\\n\\n\\n\\n\\n\\nStellenangebote für Fach- und Führungskräfte\\n\\n\\n\\n\\n\\n\\n    Kaufdown\\n    \\n\\n\\n\\n\\n\\n\\nDie Auktion, bei der der Preis sinkt\\n\\n\\n\\n\\n\\n\\n    Bildungsmarkt\\n    \\n\\n\\n\\n\\n\\n\\nInformationen und'"
      ]
     },
     "execution_count": 11,
     "metadata": {},
     "output_type": "execute_result"
    }
   ],
   "source": [
    "text[0:700]"
   ]
  },
  {
   "cell_type": "code",
   "execution_count": 12,
   "id": "composed-australia",
   "metadata": {},
   "outputs": [
    {
     "data": {
      "text/plain": [
       "'    Aktuelle Nachrichten, Hintergründe und Kommentare - SZ.de                                                                                München   15°           Nachmittag Abend Nacht Vormittag  München Berlin Hamburg Köln Frankfurt Stuttgart    15° 11° 2° 13°         sonnig sonnig wolkenlos heiter     5-Tage-Vorschau                      Shop             Jobs             Immobilien             Anzeigen               Immobilienmarkt            Immobilien und Wohnungen kaufen, mieten, anbieten           Stellenmarkt            Stellenangebote für Fach- und Führungskräfte           Kaufdown            Die Auktion, bei der der Preis sinkt           Bildungsmarkt            Informationen und'"
      ]
     },
     "execution_count": 12,
     "metadata": {},
     "output_type": "execute_result"
    }
   ],
   "source": [
    "text = text.replace(\"\\n\", \" \")\n",
    "text[0:700]"
   ]
  },
  {
   "cell_type": "code",
   "execution_count": 13,
   "id": "perfect-arena",
   "metadata": {},
   "outputs": [
    {
     "data": {
      "text/plain": [
       "'    aktuelle nachrichten, hintergründe und kommentare - sz.de                                                                                münchen   15°           nachmittag abend nacht vormittag  münchen berlin hamburg köln frankfurt stuttgart    15° 11° 2° 13°         sonnig sonnig wolkenlos heiter     5-tage-vorschau                      shop             jobs             immobilien             anzeigen               immobilienmarkt            immobilien und wohnungen kaufen, mieten, anbieten           stellenmarkt            stellenangebote für fach- und führungskräfte           kaufdown            die auktion, bei der der preis sinkt           bildungsmarkt            informationen und'"
      ]
     },
     "execution_count": 13,
     "metadata": {},
     "output_type": "execute_result"
    }
   ],
   "source": [
    "text = text.lower()\n",
    "text[0:700]"
   ]
  },
  {
   "cell_type": "code",
   "execution_count": 14,
   "id": "meaning-record",
   "metadata": {},
   "outputs": [
    {
     "data": {
      "text/plain": [
       "['',\n",
       " '',\n",
       " '',\n",
       " '',\n",
       " 'aktuelle',\n",
       " 'nachrichten,',\n",
       " 'hintergründe',\n",
       " 'und',\n",
       " 'kommentare',\n",
       " '-',\n",
       " 'sz.de',\n",
       " '',\n",
       " '',\n",
       " '',\n",
       " '',\n",
       " '',\n",
       " '',\n",
       " '',\n",
       " '',\n",
       " '']"
      ]
     },
     "execution_count": 14,
     "metadata": {},
     "output_type": "execute_result"
    }
   ],
   "source": [
    "items = text.split(\" \")\n",
    "items[0:20]"
   ]
  },
  {
   "cell_type": "code",
   "execution_count": 15,
   "id": "victorian-favor",
   "metadata": {},
   "outputs": [
    {
     "data": {
      "text/plain": [
       "['aktuelle',\n",
       " 'nachrichten,',\n",
       " 'hintergründe',\n",
       " 'und',\n",
       " 'kommentare',\n",
       " 'sz.de',\n",
       " 'münchen',\n",
       " '15°',\n",
       " 'nachmittag',\n",
       " 'abend',\n",
       " 'nacht',\n",
       " 'vormittag',\n",
       " 'münchen',\n",
       " 'berlin',\n",
       " 'hamburg',\n",
       " 'köln',\n",
       " 'frankfurt',\n",
       " 'stuttgart',\n",
       " '15°',\n",
       " '11°']"
      ]
     },
     "execution_count": 15,
     "metadata": {},
     "output_type": "execute_result"
    }
   ],
   "source": [
    "items = [i for i in items if len(i) > 1]\n",
    "items[0:20]"
   ]
  },
  {
   "cell_type": "code",
   "execution_count": 16,
   "id": "persistent-gates",
   "metadata": {},
   "outputs": [
    {
     "data": {
      "text/plain": [
       "die          170\n",
       "der          142\n",
       "und          137\n",
       "von          102\n",
       "in            86\n",
       "bilder        83\n",
       "das           69\n",
       "im            62\n",
       "sz            62\n",
       "mit           49\n",
       "dem           44\n",
       "mehr          43\n",
       "ein           42\n",
       "des           39\n",
       "gutschein     39\n",
       "sie           37\n",
       "plus          35\n",
       "aus           34\n",
       "sich          34\n",
       "wie           33\n",
       "dtype: int64"
      ]
     },
     "execution_count": 16,
     "metadata": {},
     "output_type": "execute_result"
    }
   ],
   "source": [
    "pd.value_counts(items)[0:20]"
   ]
  },
  {
   "cell_type": "markdown",
   "id": "secondary-optimum",
   "metadata": {},
   "source": [
    "## Import stop words"
   ]
  },
  {
   "cell_type": "code",
   "execution_count": 17,
   "id": "proprietary-ladder",
   "metadata": {},
   "outputs": [],
   "source": [
    "stopwords_url = \"https://raw.githubusercontent.com/solariz/german_stopwords/master/german_stopwords_full.txt\""
   ]
  },
  {
   "cell_type": "code",
   "execution_count": 18,
   "id": "extended-testament",
   "metadata": {},
   "outputs": [
    {
     "name": "stdout",
     "output_type": "stream",
     "text": [
      "; GERMAN STOPWORDS\n",
      "; Zusammmengetragen von Marco Götze, Steffen Geyer\n",
      "; LAST UPDATE 12/2016\n",
      "; Web Stopwords, more information at Source Link below!\n",
      "; www.solariz.de\n",
      "; Source and more Information: https://solariz.de/de/downloads/6/german-enhanced-stopwords.htm\n",
      "; ####\n",
      "; Link-Ware; If you use this List somehow please give me a Link to URL mentioned above! Thanks\n",
      "; ####\n",
      "ab\n",
      "aber\n",
      "abermaliges\n",
      "abermals\n",
      "abgerufen\n",
      "abgerufene\n",
      "abgerufener\n",
      "abgerufenes\n",
      "abgesehen\n",
      "acht\n",
      "aehnlich\n",
      "aehnliche\n",
      "aehnlichem\n",
      "aehnlichen\n",
      "aehnlicher\n",
      "aehnliches\n",
      "aehnlichste\n",
      "aehnlichstem\n",
      "aehnlichsten\n",
      "aehnlichster\n",
      "aehnlichstes\n",
      "aeusserst\n",
      "aeusserste\n",
      "aeusserstem\n",
      "aeussersten\n",
      "aeusserster\n",
      "aeusserstes\n",
      "ähnlich\n",
      "ähnliche\n",
      "ähnlichem\n",
      "ähnlichen\n",
      "ähnlicher [...]\n"
     ]
    }
   ],
   "source": [
    "stopwords = requests.get(stopwords_url, allow_redirects=True)\n",
    "stopwords_text = stopwords.text\n",
    "print(stopwords_text[0:700], \"[...]\")"
   ]
  },
  {
   "cell_type": "code",
   "execution_count": 19,
   "id": "social-finnish",
   "metadata": {},
   "outputs": [
    {
     "data": {
      "text/plain": [
       "['ab',\n",
       " 'aber',\n",
       " 'abermaliges',\n",
       " 'abermals',\n",
       " 'abgerufen',\n",
       " 'abgerufene',\n",
       " 'abgerufener',\n",
       " 'abgerufenes',\n",
       " 'abgesehen',\n",
       " 'acht',\n",
       " 'aehnlich',\n",
       " 'aehnliche',\n",
       " 'aehnlichem',\n",
       " 'aehnlichen',\n",
       " 'aehnlicher',\n",
       " 'aehnliches',\n",
       " 'aehnlichste',\n",
       " 'aehnlichstem',\n",
       " 'aehnlichsten',\n",
       " 'aehnlichster']"
      ]
     },
     "execution_count": 19,
     "metadata": {},
     "output_type": "execute_result"
    }
   ],
   "source": [
    "stopwords_list = stopwords.text.split(\"\\n\")[9:]\n",
    "stopwords_list[0:20]"
   ]
  },
  {
   "cell_type": "markdown",
   "id": "julian-demographic",
   "metadata": {},
   "source": [
    "## Using stop words"
   ]
  },
  {
   "cell_type": "code",
   "execution_count": 20,
   "id": "vulnerable-response",
   "metadata": {},
   "outputs": [
    {
     "data": {
      "text/plain": [
       "['aktuelle',\n",
       " 'nachrichten,',\n",
       " 'hintergründe',\n",
       " 'kommentare',\n",
       " 'sz.de',\n",
       " 'münchen',\n",
       " '15°',\n",
       " 'nachmittag',\n",
       " 'abend',\n",
       " 'vormittag',\n",
       " 'münchen',\n",
       " 'berlin',\n",
       " 'hamburg',\n",
       " 'köln',\n",
       " 'frankfurt',\n",
       " 'stuttgart',\n",
       " '15°',\n",
       " '11°',\n",
       " '2°',\n",
       " '13°']"
      ]
     },
     "execution_count": 20,
     "metadata": {},
     "output_type": "execute_result"
    }
   ],
   "source": [
    "items = [i for i in items if i not in stopwords_list]\n",
    "items[0:20]"
   ]
  },
  {
   "cell_type": "code",
   "execution_count": 21,
   "id": "false-venture",
   "metadata": {},
   "outputs": [
    {
     "data": {
      "text/plain": [
       "bilder             83\n",
       "sz                 62\n",
       "gutschein          39\n",
       "plus               35\n",
       "momentaufnahmen    23\n",
       "münchen            19\n",
       "artikel            17\n",
       "themen             16\n",
       "ressort            15\n",
       "bayern             15\n",
       "test               13\n",
       "dezember           13\n",
       "2020               13\n",
       "wissen             12\n",
       "corona             11\n",
       "pandemie           11\n",
       "gutscheine         11\n",
       "adventsquiz        10\n",
       "zeitung             9\n",
       "fc                  9\n",
       "dtype: int64"
      ]
     },
     "execution_count": 21,
     "metadata": {},
     "output_type": "execute_result"
    }
   ],
   "source": [
    "pd.value_counts(items)[0:20]"
   ]
  },
  {
   "cell_type": "markdown",
   "id": "judicial-coach",
   "metadata": {},
   "source": [
    "## Kurzfassung"
   ]
  },
  {
   "cell_type": "code",
   "execution_count": 22,
   "id": "acceptable-lindsay",
   "metadata": {},
   "outputs": [
    {
     "data": {
      "text/plain": [
       "['ab',\n",
       " 'aber',\n",
       " 'abermaliges',\n",
       " 'abermals',\n",
       " 'abgerufen',\n",
       " 'abgerufene',\n",
       " 'abgerufener',\n",
       " 'abgerufenes',\n",
       " 'abgesehen',\n",
       " 'acht',\n",
       " 'aehnlich',\n",
       " 'aehnliche',\n",
       " 'aehnlichem',\n",
       " 'aehnlichen',\n",
       " 'aehnlicher',\n",
       " 'aehnliches',\n",
       " 'aehnlichste',\n",
       " 'aehnlichstem',\n",
       " 'aehnlichsten',\n",
       " 'aehnlichster']"
      ]
     },
     "execution_count": 22,
     "metadata": {},
     "output_type": "execute_result"
    }
   ],
   "source": [
    "stopwords_url = \"https://raw.githubusercontent.com/solariz/german_stopwords/master/german_stopwords_full.txt\"\n",
    "stopwords_list = requests.get(stopwords_url, allow_redirects=True).text.split(\"\\n\")[9:]\n",
    "stopwords_list[0:20]"
   ]
  },
  {
   "cell_type": "code",
   "execution_count": 23,
   "id": "blank-arkansas",
   "metadata": {},
   "outputs": [
    {
     "data": {
      "text/plain": [
       "bilder             83\n",
       "sz                 62\n",
       "gutschein          39\n",
       "plus               35\n",
       "momentaufnahmen    23\n",
       "                   ..\n",
       "show                1\n",
       "fahrrad             1\n",
       "auf.                1\n",
       "norbert             1\n",
       "geschäft            1\n",
       "Length: 2422, dtype: int64"
      ]
     },
     "execution_count": 23,
     "metadata": {},
     "output_type": "execute_result"
    }
   ],
   "source": [
    "def process_html(text):\n",
    "    items = text.replace(\"\\n\", \" \").lower().split(\" \")\n",
    "    items = [i for i in items if len(i) > 1 and i not in stopwords_list]\n",
    "    return items\n",
    "pd.value_counts(process_html(text))"
   ]
  },
  {
   "cell_type": "code",
   "execution_count": null,
   "id": "hispanic-prefix",
   "metadata": {},
   "outputs": [],
   "source": []
  }
 ],
 "metadata": {
  "kernelspec": {
   "display_name": "Python 3",
   "language": "python",
   "name": "python3"
  },
  "language_info": {
   "codemirror_mode": {
    "name": "ipython",
    "version": 3
   },
   "file_extension": ".py",
   "mimetype": "text/x-python",
   "name": "python",
   "nbconvert_exporter": "python",
   "pygments_lexer": "ipython3",
   "version": "3.8.5"
  }
 },
 "nbformat": 4,
 "nbformat_minor": 5
}
