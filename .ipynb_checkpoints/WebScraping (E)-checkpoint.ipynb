{
 "cells": [
  {
   "cell_type": "code",
   "execution_count": 1,
   "id": "identified-surface",
   "metadata": {},
   "outputs": [
    {
     "name": "stderr",
     "output_type": "stream",
     "text": [
      "C:\\Users\\jonas\\Anaconda3\\envs\\ML\\lib\\site-packages\\numpy\\_distributor_init.py:30: UserWarning: loaded more than 1 DLL from .libs:\n",
      "C:\\Users\\jonas\\Anaconda3\\envs\\ML\\lib\\site-packages\\numpy\\.libs\\libopenblas.PYQHXLVVQ7VESDPUVUADXEVJOBGHJPAY.gfortran-win_amd64.dll\n",
      "C:\\Users\\jonas\\Anaconda3\\envs\\ML\\lib\\site-packages\\numpy\\.libs\\libopenblas.WCDJNK7YVMPZQ2ME2ZZHJJRJ3JIKNDB7.gfortran-win_amd64.dll\n",
      "  warnings.warn(\"loaded more than 1 DLL from .libs:\"\n"
     ]
    }
   ],
   "source": [
    "import os\n",
    "from datetime import datetime\n",
    "import pandas as pd\n",
    "import requests"
   ]
  },
  {
   "cell_type": "markdown",
   "id": "polished-beads",
   "metadata": {},
   "source": [
    "## Manually scraping sz.de"
   ]
  },
  {
   "cell_type": "code",
   "execution_count": 2,
   "id": "neither-legend",
   "metadata": {},
   "outputs": [],
   "source": [
    "url = \"http://sz.de\""
   ]
  },
  {
   "cell_type": "code",
   "execution_count": 3,
   "id": "junior-swiss",
   "metadata": {},
   "outputs": [],
   "source": [
    "response = requests.get(url, allow_redirects=True)"
   ]
  },
  {
   "cell_type": "code",
   "execution_count": 4,
   "id": "temporal-crisis",
   "metadata": {},
   "outputs": [
    {
     "data": {
      "text/plain": [
       "200"
      ]
     },
     "execution_count": 4,
     "metadata": {},
     "output_type": "execute_result"
    }
   ],
   "source": [
    "response.status_code"
   ]
  },
  {
   "cell_type": "code",
   "execution_count": 5,
   "id": "increasing-croatia",
   "metadata": {},
   "outputs": [
    {
     "name": "stdout",
     "output_type": "stream",
     "text": [
      "<!doctype html>\n",
      "<html lang=\"de\">\n",
      "\n",
      "<head>\n",
      "    <meta charset=\"utf-8\" />\n",
      "    <title>Aktuelle Nachrichten, Hintergründe und Kommentare - SZ.de</title>\n",
      "    <link rel=\"canonical\" href=\"https://www.sueddeutsche.de\" />\n",
      "    <meta name=\"robots\" content=\"index,follow,noarchive,noodp\" />\n",
      "    <meta name=\"author\" content=\"Süddeutsche.de GmbH, Munich, Germany\" />\n",
      "    <meta name=\"copyright\" content=\"Süddeutsche.de GmbH, Munich, Germany\" />\n",
      "    <meta name=\"viewport\" content=\"width=1280\" />\n",
      "    <meta name=\"email\" content=\"kontakt@sueddeutsche.de\" />\n",
      "    <meta name=\"description\" content=\"News aus Deutschland und aller Welt mit Kommentaren und Hintergrundberichten auf Süddeutsche.de.\" />\n",
      "    <meta name=\"keyword [...]\n"
     ]
    }
   ],
   "source": [
    "print(response.text[0:700], \"[...]\")"
   ]
  },
  {
   "cell_type": "code",
   "execution_count": 6,
   "id": "thirty-latvia",
   "metadata": {},
   "outputs": [
    {
     "name": "stdout",
     "output_type": "stream",
     "text": [
      "b'<!doctype html>\\n<html lang=\"de\">\\n\\n<head>\\n    <meta charset=\"utf-8\" />\\n    <title>Aktuelle Nachrichten, Hintergr\\xc3\\xbcnde und Kommentare - SZ.de</title>\\n    <link rel=\"canonical\" href=\"https://www.sueddeutsche.de\" />\\n    <meta name=\"robots\" content=\"index,follow,noarchive,noodp\" />\\n    <meta name=\"author\" content=\"S\\xc3\\xbcddeutsche.de GmbH, Munich, Germany\" />\\n    <meta name=\"copyright\" content=\"S\\xc3\\xbcddeutsche.de GmbH, Munich, Germany\" />\\n    <meta name=\"viewport\" content=\"width=1280\" />\\n    <meta name=\"email\" content=\"kontakt@sueddeutsche.de\" />\\n    <meta name=\"description\" content=\"News aus Deutschland und aller Welt mit Kommentaren und Hintergrundberichten auf S\\xc3\\xbcddeutsche.de.\" />\\n    <meta name=\"key' [...]\n"
     ]
    }
   ],
   "source": [
    "print(response.content[0:700], \"[...]\")"
   ]
  },
  {
   "cell_type": "code",
   "execution_count": 7,
   "id": "floating-engine",
   "metadata": {},
   "outputs": [
    {
     "data": {
      "text/plain": [
       "'UTF-8'"
      ]
     },
     "execution_count": 7,
     "metadata": {},
     "output_type": "execute_result"
    }
   ],
   "source": [
    "response.encoding"
   ]
  },
  {
   "cell_type": "code",
   "execution_count": 8,
   "id": "periodic-professional",
   "metadata": {},
   "outputs": [
    {
     "data": {
      "text/plain": [
       "'https://www.sueddeutsche.de/'"
      ]
     },
     "execution_count": 8,
     "metadata": {},
     "output_type": "execute_result"
    }
   ],
   "source": [
    "response.url"
   ]
  },
  {
   "cell_type": "code",
   "execution_count": 9,
   "id": "electrical-rally",
   "metadata": {},
   "outputs": [
    {
     "data": {
      "text/plain": [
       "datetime.timedelta(microseconds=175513)"
      ]
     },
     "execution_count": 9,
     "metadata": {},
     "output_type": "execute_result"
    }
   ],
   "source": [
    "response.elapsed"
   ]
  },
  {
   "cell_type": "code",
   "execution_count": 14,
   "id": "likely-thomas",
   "metadata": {},
   "outputs": [],
   "source": [
    "with open(os.path.join(\"local\", \"sz.html\"), \"wb\") as f:\n",
    "    f.write(response.content)"
   ]
  },
  {
   "cell_type": "markdown",
   "id": "ready-monroe",
   "metadata": {},
   "source": [
    "## Automatically scraping multiple websites"
   ]
  },
  {
   "cell_type": "code",
   "execution_count": 15,
   "id": "adult-cannon",
   "metadata": {},
   "outputs": [],
   "source": [
    "STORAGE_DIR = \"local\""
   ]
  },
  {
   "cell_type": "code",
   "execution_count": 16,
   "id": "binary-accessory",
   "metadata": {},
   "outputs": [],
   "source": [
    "# List of news pages to be scraped\n",
    "newspaper_urls = dict(\n",
    "    sz=\"https://www.sueddeutsche.de/\",\n",
    "    zeit=\"https://www.zeit.de/index\",\n",
    "    faz=\"https://www.faz.net/aktuell/\",\n",
    "    ts=\"https://www.tagesspiegel.de/\",\n",
    "    spiegel=\"https://www.spiegel.de/\",\n",
    "    kronen=\"https://www.krone.at/\",\n",
    "    wtf=\"https://asdfkajwlkejwkejklajsdflksadjfasdf.nix\",\n",
    ")"
   ]
  },
  {
   "cell_type": "code",
   "execution_count": 17,
   "id": "living-magic",
   "metadata": {},
   "outputs": [
    {
     "name": "stdout",
     "output_type": "stream",
     "text": [
      "2021-04-23\n"
     ]
    }
   ],
   "source": [
    "# Current date as string\n",
    "now = datetime.now()\n",
    "now_str = now.strftime(\"%Y-%m-%d\")\n",
    "print(now_str)"
   ]
  },
  {
   "cell_type": "markdown",
   "id": "devoted-supplement",
   "metadata": {},
   "source": [
    "### Target Objects"
   ]
  },
  {
   "cell_type": "markdown",
   "id": "common-museum",
   "metadata": {},
   "source": [
    "We will create two objects:\n",
    "\n",
    "- content_dict: a dict with the HTML content of the pages we scraped\n",
    "\n",
    "- log_list: a list with metadata about our requests"
   ]
  },
  {
   "cell_type": "code",
   "execution_count": 18,
   "id": "cleared-nation",
   "metadata": {},
   "outputs": [],
   "source": [
    "content_dict = {}\n",
    "text_dict = {}\n",
    "log_list = []\n",
    "failing_list = []"
   ]
  },
  {
   "cell_type": "markdown",
   "id": "structural-antique",
   "metadata": {},
   "source": [
    "### Scraper function"
   ]
  },
  {
   "cell_type": "code",
   "execution_count": 19,
   "id": "political-recruitment",
   "metadata": {},
   "outputs": [],
   "source": [
    "def scrape_website(name, url):\n",
    "\n",
    "    # (1) Run request\n",
    "    response = requests.get(url, allow_redirects=True)\n",
    "    content = response.content\n",
    "    text = response.text\n",
    "\n",
    "    # (2) File name to store the raw HTML\n",
    "    file_name = os.path.join(\n",
    "        STORAGE_DIR,\n",
    "        f\"{now_str}-{name}.html\",\n",
    "    )\n",
    "\n",
    "    # (3) Write raw HTML\n",
    "    with open(file_name, \"wb\") as f:\n",
    "        f.write(response.content)\n",
    "\n",
    "    # (4) Fill content_dict and text_dict\n",
    "    content_dict[name] = response.content\n",
    "    text_dict[name] = response.text\n",
    "\n",
    "    # (5) Fill log_list\n",
    "    log_info = dict(\n",
    "        name=name,\n",
    "        date=now_str,\n",
    "        file_name=file_name,\n",
    "        status=response.status_code,\n",
    "        url=response.url,\n",
    "        encoding=response.encoding,\n",
    "    )\n",
    "    log_list.append(log_info)"
   ]
  },
  {
   "cell_type": "markdown",
   "id": "identified-involvement",
   "metadata": {},
   "source": [
    "### Execute"
   ]
  },
  {
   "cell_type": "code",
   "execution_count": 20,
   "id": "aggregate-plain",
   "metadata": {},
   "outputs": [],
   "source": [
    "for name, url in newspaper_urls.items():\n",
    "    try:\n",
    "        scrape_website(name, url)\n",
    "    except:\n",
    "        failing_list.append((name, url))"
   ]
  },
  {
   "cell_type": "markdown",
   "id": "sporting-zambia",
   "metadata": {},
   "source": [
    "### Check"
   ]
  },
  {
   "cell_type": "code",
   "execution_count": 21,
   "id": "allied-seafood",
   "metadata": {},
   "outputs": [
    {
     "data": {
      "text/html": [
       "<div>\n",
       "<style scoped>\n",
       "    .dataframe tbody tr th:only-of-type {\n",
       "        vertical-align: middle;\n",
       "    }\n",
       "\n",
       "    .dataframe tbody tr th {\n",
       "        vertical-align: top;\n",
       "    }\n",
       "\n",
       "    .dataframe thead th {\n",
       "        text-align: right;\n",
       "    }\n",
       "</style>\n",
       "<table border=\"1\" class=\"dataframe\">\n",
       "  <thead>\n",
       "    <tr style=\"text-align: right;\">\n",
       "      <th></th>\n",
       "      <th>name</th>\n",
       "      <th>date</th>\n",
       "      <th>file_name</th>\n",
       "      <th>status</th>\n",
       "      <th>url</th>\n",
       "      <th>encoding</th>\n",
       "    </tr>\n",
       "  </thead>\n",
       "  <tbody>\n",
       "    <tr>\n",
       "      <th>0</th>\n",
       "      <td>sz</td>\n",
       "      <td>2021-04-23</td>\n",
       "      <td>local\\2021-04-23-sz.html</td>\n",
       "      <td>200</td>\n",
       "      <td>https://www.sueddeutsche.de/</td>\n",
       "      <td>UTF-8</td>\n",
       "    </tr>\n",
       "    <tr>\n",
       "      <th>1</th>\n",
       "      <td>zeit</td>\n",
       "      <td>2021-04-23</td>\n",
       "      <td>local\\2021-04-23-zeit.html</td>\n",
       "      <td>200</td>\n",
       "      <td>https://www.zeit.de/index</td>\n",
       "      <td>UTF-8</td>\n",
       "    </tr>\n",
       "    <tr>\n",
       "      <th>2</th>\n",
       "      <td>faz</td>\n",
       "      <td>2021-04-23</td>\n",
       "      <td>local\\2021-04-23-faz.html</td>\n",
       "      <td>200</td>\n",
       "      <td>https://www.faz.net/aktuell/</td>\n",
       "      <td>utf-8</td>\n",
       "    </tr>\n",
       "    <tr>\n",
       "      <th>3</th>\n",
       "      <td>ts</td>\n",
       "      <td>2021-04-23</td>\n",
       "      <td>local\\2021-04-23-ts.html</td>\n",
       "      <td>200</td>\n",
       "      <td>https://www.tagesspiegel.de/</td>\n",
       "      <td>utf-8</td>\n",
       "    </tr>\n",
       "    <tr>\n",
       "      <th>4</th>\n",
       "      <td>spiegel</td>\n",
       "      <td>2021-04-23</td>\n",
       "      <td>local\\2021-04-23-spiegel.html</td>\n",
       "      <td>200</td>\n",
       "      <td>https://www.spiegel.de/</td>\n",
       "      <td>utf-8</td>\n",
       "    </tr>\n",
       "    <tr>\n",
       "      <th>5</th>\n",
       "      <td>kronen</td>\n",
       "      <td>2021-04-23</td>\n",
       "      <td>local\\2021-04-23-kronen.html</td>\n",
       "      <td>200</td>\n",
       "      <td>https://www.krone.at/</td>\n",
       "      <td>ISO-8859-1</td>\n",
       "    </tr>\n",
       "  </tbody>\n",
       "</table>\n",
       "</div>"
      ],
      "text/plain": [
       "      name        date                      file_name  status  \\\n",
       "0       sz  2021-04-23       local\\2021-04-23-sz.html     200   \n",
       "1     zeit  2021-04-23     local\\2021-04-23-zeit.html     200   \n",
       "2      faz  2021-04-23      local\\2021-04-23-faz.html     200   \n",
       "3       ts  2021-04-23       local\\2021-04-23-ts.html     200   \n",
       "4  spiegel  2021-04-23  local\\2021-04-23-spiegel.html     200   \n",
       "5   kronen  2021-04-23   local\\2021-04-23-kronen.html     200   \n",
       "\n",
       "                            url    encoding  \n",
       "0  https://www.sueddeutsche.de/       UTF-8  \n",
       "1     https://www.zeit.de/index       UTF-8  \n",
       "2  https://www.faz.net/aktuell/       utf-8  \n",
       "3  https://www.tagesspiegel.de/       utf-8  \n",
       "4       https://www.spiegel.de/       utf-8  \n",
       "5         https://www.krone.at/  ISO-8859-1  "
      ]
     },
     "execution_count": 21,
     "metadata": {},
     "output_type": "execute_result"
    }
   ],
   "source": [
    "log_df = pd.DataFrame(log_list)\n",
    "log_df"
   ]
  },
  {
   "cell_type": "code",
   "execution_count": 22,
   "id": "practical-lightweight",
   "metadata": {},
   "outputs": [],
   "source": [
    "log_file_name = os.path.join(\n",
    "    STORAGE_DIR,\n",
    "    f\"{now_str}.csv\",\n",
    ")"
   ]
  },
  {
   "cell_type": "code",
   "execution_count": 23,
   "id": "fabulous-locator",
   "metadata": {},
   "outputs": [],
   "source": [
    "log_df.to_csv(log_file_name)"
   ]
  },
  {
   "cell_type": "code",
   "execution_count": 24,
   "id": "material-forestry",
   "metadata": {},
   "outputs": [
    {
     "data": {
      "text/plain": [
       "[('wtf', 'https://asdfkajwlkejwkejklajsdflksadjfasdf.nix')]"
      ]
     },
     "execution_count": 24,
     "metadata": {},
     "output_type": "execute_result"
    }
   ],
   "source": [
    "failing_list"
   ]
  },
  {
   "cell_type": "code",
   "execution_count": null,
   "id": "local-ecology",
   "metadata": {},
   "outputs": [],
   "source": []
  }
 ],
 "metadata": {
  "kernelspec": {
   "display_name": "Python 3",
   "language": "python",
   "name": "python3"
  },
  "language_info": {
   "codemirror_mode": {
    "name": "ipython",
    "version": 3
   },
   "file_extension": ".py",
   "mimetype": "text/x-python",
   "name": "python",
   "nbconvert_exporter": "python",
   "pygments_lexer": "ipython3",
   "version": "3.8.5"
  }
 },
 "nbformat": 4,
 "nbformat_minor": 5
}
